{
 "cells": [
  {
   "cell_type": "markdown",
   "metadata": {},
   "source": [
    "## Twitter hashtag crawler"
   ]
  },
  {
   "cell_type": "code",
   "execution_count": null,
   "metadata": {},
   "outputs": [],
   "source": [
    "#!/usr/bin/env python3\n",
    "# -*- coding: utf-8 -*-\n",
    "\"\"\"\n",
    "Created on Fri Sep 20 09:43:24 2019\n",
    "\n",
    "@author: yoko\n",
    "\"\"\"\n",
    "\n",
    "import tweepy\n",
    "import csv\n",
    "import pandas as pd\n",
    "####input your credentials here\n",
    "consumer_key = '0pW44wwmZ3ft7FXAf5JZxPW8y'\n",
    "consumer_secret = 'YJxLt7QER3O3Gvd0JerTgzZaKHssQxL51eBbnQUK3r0SYWm6vL'\n",
    "access_token = '212782440-AodAkix83Py5tjj9uyPSPfigBIOZLT2fRks2NEuA'\n",
    "access_token_secret = 'qyieBwlIONEKXw78wvqAhELQDKleUHs9KHHyGeYgCOFIn'\n",
    "\n",
    "auth = tweepy.OAuthHandler(consumer_key, consumer_secret)\n",
    "auth.set_access_token(access_token, access_token_secret)\n",
    "api = tweepy.API(auth,wait_on_rate_limit=True)\n",
    "#####apple iPhone11\n",
    "# Open/Create a file to append data\n",
    "csvFile = open('apple_iPhone11.csv', 'a')\n",
    "#Use csv Writer\n",
    "csvWriter = csv.writer(csvFile)\n",
    "\n",
    "for tweet in tweepy.Cursor(api.search,q=\"#iPhone11\",count=100,\n",
    "                           lang=\"en\",\n",
    "                           since=\"2019-09-20\").items():\n",
    "#    print (tweet.created_at, tweet.text)\n",
    "    csvWriter.writerow([tweet.created_at, tweet.text.encode('utf-8')])"
   ]
  },
  {
   "cell_type": "code",
   "execution_count": 2,
   "metadata": {},
   "outputs": [
    {
     "name": "stdout",
     "output_type": "stream",
     "text": [
      "[NbConvertApp] Converting notebook twitter_hashtag_crawler.ipynb to html\n",
      "[NbConvertApp] Writing 276387 bytes to twitter_hashtag_crawler.html\n"
     ]
    }
   ],
   "source": [
    "!jupyter nbconvert --to html twitter_hashtag_crawler.ipynb"
   ]
  },
  {
   "cell_type": "code",
   "execution_count": null,
   "metadata": {},
   "outputs": [],
   "source": []
  }
 ],
 "metadata": {
  "kernelspec": {
   "display_name": "Python 3",
   "language": "python",
   "name": "python3"
  },
  "language_info": {
   "codemirror_mode": {
    "name": "ipython",
    "version": 3
   },
   "file_extension": ".py",
   "mimetype": "text/x-python",
   "name": "python",
   "nbconvert_exporter": "python",
   "pygments_lexer": "ipython3",
   "version": "3.7.3"
  }
 },
 "nbformat": 4,
 "nbformat_minor": 2
}
